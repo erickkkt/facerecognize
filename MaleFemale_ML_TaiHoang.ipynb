{
 "cells": [
  {
   "cell_type": "code",
   "execution_count": 52,
   "metadata": {},
   "outputs": [],
   "source": [
    "import os\n",
    "import shutil\n",
    "from sklearn.cluster import KMeans\n",
    "from sklearn import tree\n",
    "from sklearn import linear_model\n",
    "from sklearn.decomposition import PCA\n",
    "from sklearn import svm, grid_search\n",
    "from sklearn.neural_network import MLPClassifier\n",
    "import cv2\n",
    "from skimage import io\n",
    "from PIL import Image\n",
    "import numpy as np\n",
    "import pandas as pd\n",
    "import random\n",
    "from sklearn import metrics\n",
    "import matplotlib.pyplot as plt\n",
    "import seaborn as sns"
   ]
  },
  {
   "cell_type": "code",
   "execution_count": 53,
   "metadata": {},
   "outputs": [],
   "source": [
    "input_faces_folder = '../data/HvN/faces_full'\n",
    "input_predict_faces_folder = '../data/face_croped'\n",
    "out_predict_faces_folder = '../data/face_predicted'\n",
    "IMG_WIDTH = 100\n",
    "IMG_HEIGHT = 100\n",
    "FRACTION = 8/10\n",
    "N_COMPONENTS = 200\n",
    "N_HIDEN_LAYERS = 100\n",
    "N_OUTPUT_LAYERS = 2\n",
    "MAX_ITER = 1000\n",
    "TOLERANCE = 1e-3\n",
    "BATCH_SIZE = 32"
   ]
  },
  {
   "cell_type": "code",
   "execution_count": 54,
   "metadata": {},
   "outputs": [],
   "source": [
    "def process_file(file_name):\n",
    "    image = cv2.imread(file_name, cv2.IMREAD_GRAYSCALE)\n",
    "    newimage = np.reshape(image, IMG_HEIGHT*IMG_WIDTH)\n",
    "    label = file_name[-5:][:1]\n",
    "    return newimage, label"
   ]
  },
  {
   "cell_type": "code",
   "execution_count": 55,
   "metadata": {},
   "outputs": [
    {
     "data": {
      "text/plain": [
       "(array([ 32,  30,  28, ..., 124, 122, 110], dtype=uint8), 'M')"
      ]
     },
     "execution_count": 55,
     "metadata": {},
     "output_type": "execute_result"
    }
   ],
   "source": [
    "process_file(input_faces_folder+'/1-06-M.jpg')"
   ]
  },
  {
   "cell_type": "code",
   "execution_count": 56,
   "metadata": {},
   "outputs": [],
   "source": [
    "#Process folder\n",
    "def process_folder(folder_path):\n",
    "    matrixX=None\n",
    "    matrixY=None\n",
    "    matrixX_arr = []\n",
    "    matrixY_arr = []\n",
    "    for root, dirs, files in os.walk(folder_path):\n",
    "        random.shuffle(files, random.random)      \n",
    "        for file in files:\n",
    "            if file.endswith('.jpg'):\n",
    "                file_name = os.path.join(root, file)\n",
    "                row_arr, label = process_file(file_name)\n",
    "                matrixX_arr.append(np.array(row_arr))\n",
    "                matrixY_arr.append(label)\n",
    "                \n",
    "    matrixX=np.array(matrixX_arr)\n",
    "    matrixY=np.array(matrixY_arr)\n",
    "    return matrixX, matrixY"
   ]
  },
  {
   "cell_type": "code",
   "execution_count": 57,
   "metadata": {},
   "outputs": [],
   "source": [
    "X,Y = process_folder(input_faces_folder)\n",
    "X_train = X[:int(X.shape[0]*FRACTION)]\n",
    "Y_train = Y[:int(Y.shape[0]*FRACTION)]\n",
    "X_validate = X[int(X.shape[0]*FRACTION):]\n",
    "Y_validate = Y[int(Y.shape[0]*FRACTION):]"
   ]
  },
  {
   "cell_type": "code",
   "execution_count": 58,
   "metadata": {},
   "outputs": [
    {
     "name": "stdout",
     "output_type": "stream",
     "text": [
      "(927, 10000)\n",
      "(927,)\n",
      "(741, 10000)\n",
      "(741,)\n",
      "(186, 10000)\n",
      "(186,)\n"
     ]
    }
   ],
   "source": [
    "print(X.shape)\n",
    "print(Y.shape)\n",
    "print(X_train.shape)\n",
    "print(Y_train.shape)\n",
    "print(X_validate.shape)\n",
    "print(Y_validate.shape)"
   ]
  },
  {
   "cell_type": "code",
   "execution_count": 59,
   "metadata": {},
   "outputs": [],
   "source": [
    "pca = PCA(n_components=N_COMPONENTS, svd_solver='randomized', whiten=True).fit(X_train)\n",
    "\n",
    "X_train_pca = pca.transform(X_train)\n",
    "X_validate_pca = pca.transform(X_validate)"
   ]
  },
  {
   "cell_type": "code",
   "execution_count": 60,
   "metadata": {},
   "outputs": [
    {
     "name": "stdout",
     "output_type": "stream",
     "text": [
      "(741, 200)\n",
      "(186, 200)\n"
     ]
    }
   ],
   "source": [
    "print(X_train_pca.shape)\n",
    "print(X_validate_pca.shape)"
   ]
  },
  {
   "cell_type": "code",
   "execution_count": 61,
   "metadata": {},
   "outputs": [],
   "source": [
    "def knn(X, X_train, Y_train, k=1):\n",
    "    inXMat = np.tile(X, (len(Y_train),1))\n",
    "    deltaXMat = inXMat - X_train\n",
    "    sqDiffMat = deltaXMat**2\n",
    "    sqDistances = sqDiffMat.sum(axis=1)\n",
    "    sqrt = sqDistances**0.5\n",
    "    sqrtIndex =[]\n",
    "    for i, v in enumerate(sqrt):\n",
    "        a = {}\n",
    "        a['id'] = i\n",
    "        a['val'] = v\n",
    "        sqrtIndex.append(a)\n",
    "    sqrtSort = sorted(sqrtIndex,key= lambda x: x['val'])\n",
    "    sqrtSortK = sqrtSort[:k]\n",
    "    for a in sqrtSortK:\n",
    "        label = Y_train[a['id']]\n",
    "    return label"
   ]
  },
  {
   "cell_type": "code",
   "execution_count": 62,
   "metadata": {},
   "outputs": [],
   "source": [
    "def count_accuracy_knn(X_test, Y_test, X_train, Y_train):\n",
    "    sum =0\n",
    "    for i, test in enumerate(X_test):\n",
    "        l = knn(test, X_train, Y_train)\n",
    "        if l == Y_test[i]:\n",
    "            sum += 1\n",
    "    return sum, 100*(sum/len(Y_test))"
   ]
  },
  {
   "cell_type": "code",
   "execution_count": 63,
   "metadata": {},
   "outputs": [
    {
     "data": {
      "text/plain": [
       "DecisionTreeClassifier(class_weight=None, criterion='entropy', max_depth=None,\n",
       "            max_features=None, max_leaf_nodes=None,\n",
       "            min_impurity_decrease=0.0, min_impurity_split=None,\n",
       "            min_samples_leaf=1, min_samples_split=2,\n",
       "            min_weight_fraction_leaf=0.0, presort=False, random_state=None,\n",
       "            splitter='best')"
      ]
     },
     "execution_count": 63,
     "metadata": {},
     "output_type": "execute_result"
    }
   ],
   "source": [
    "#Decision Tree\n",
    "decision_tree = tree.DecisionTreeClassifier(criterion='entropy')\n",
    "# decision_tree.fit(X_train, Y_train)\n",
    "decision_tree.fit(X_train_pca, Y_train)"
   ]
  },
  {
   "cell_type": "code",
   "execution_count": 64,
   "metadata": {},
   "outputs": [
    {
     "data": {
      "text/plain": [
       "LogisticRegression(C=1.0, class_weight=None, dual=False, fit_intercept=True,\n",
       "          intercept_scaling=1, max_iter=1000, multi_class='ovr', n_jobs=1,\n",
       "          penalty='l2', random_state=None, solver='liblinear', tol=0.001,\n",
       "          verbose=0, warm_start=False)"
      ]
     },
     "execution_count": 64,
     "metadata": {},
     "output_type": "execute_result"
    }
   ],
   "source": [
    "#Logistic\n",
    "logistic = linear_model.LogisticRegression(max_iter=MAX_ITER, tol=TOLERANCE)\n",
    "# logistic.fit(X_train, Y_train.ravel())\n",
    "logistic.fit(X_train_pca, Y_train.ravel())"
   ]
  },
  {
   "cell_type": "code",
   "execution_count": 65,
   "metadata": {},
   "outputs": [
    {
     "name": "stdout",
     "output_type": "stream",
     "text": [
      "Iteration 1, loss = 0.66696793\n",
      "Validation score: 0.680000\n",
      "Iteration 2, loss = 0.57191812\n",
      "Validation score: 0.680000\n",
      "Iteration 3, loss = 0.51392387\n",
      "Validation score: 0.693333\n",
      "Iteration 4, loss = 0.42972915\n",
      "Validation score: 0.706667\n",
      "Iteration 5, loss = 0.35255420\n",
      "Validation score: 0.653333\n",
      "Iteration 6, loss = 0.29558641\n",
      "Validation score: 0.693333\n",
      "Iteration 7, loss = 0.25783056\n",
      "Validation score: 0.693333\n",
      "Validation score did not improve more than tol=0.000100 for two consecutive epochs. Stopping.\n",
      "Iteration 1, loss = 0.80353658\n",
      "Validation score: 0.653333\n",
      "Iteration 2, loss = 0.55416829\n",
      "Validation score: 0.640000\n",
      "Iteration 3, loss = 0.48746332\n",
      "Validation score: 0.693333\n",
      "Iteration 4, loss = 0.43518303\n",
      "Validation score: 0.773333\n",
      "Iteration 5, loss = 0.40020658\n",
      "Validation score: 0.813333\n",
      "Iteration 6, loss = 0.37082944\n",
      "Validation score: 0.800000\n",
      "Iteration 7, loss = 0.35142224\n",
      "Validation score: 0.773333\n",
      "Iteration 8, loss = 0.33343761\n",
      "Validation score: 0.786667\n",
      "Validation score did not improve more than tol=0.000100 for two consecutive epochs. Stopping.\n"
     ]
    },
    {
     "data": {
      "text/plain": [
       "MLPClassifier(activation='relu', alpha=0.0001, batch_size=32, beta_1=0.9,\n",
       "       beta_2=0.999, early_stopping=True, epsilon=1e-08,\n",
       "       hidden_layer_sizes=(100, 2), learning_rate='constant',\n",
       "       learning_rate_init=0.001, max_iter=1000, momentum=0.9,\n",
       "       nesterovs_momentum=True, power_t=0.5, random_state=None,\n",
       "       shuffle=True, solver='adam', tol=0.0001, validation_fraction=0.1,\n",
       "       verbose=True, warm_start=False)"
      ]
     },
     "execution_count": 65,
     "metadata": {},
     "output_type": "execute_result"
    }
   ],
   "source": [
    "#Multi layers perception\n",
    "MLP = MLPClassifier(activation='relu', solver='adam', hidden_layer_sizes=(N_HIDEN_LAYERS, N_OUTPUT_LAYERS), max_iter=MAX_ITER, batch_size=BATCH_SIZE, verbose=True, early_stopping=True).fit(X_train_pca, Y_train)\n",
    "# MLP.fit(X_train, Y_train.ravel())\n",
    "MLP.fit(X_train_pca, Y_train.ravel())"
   ]
  },
  {
   "cell_type": "code",
   "execution_count": 66,
   "metadata": {},
   "outputs": [
    {
     "data": {
      "text/plain": [
       "GridSearchCV(cv=None, error_score='raise',\n",
       "       estimator=SVC(C=1.0, cache_size=200, class_weight=None, coef0=0.0,\n",
       "  decision_function_shape='ovr', degree=3, gamma='auto', kernel='rbf',\n",
       "  max_iter=-1, probability=False, random_state=None, shrinking=True,\n",
       "  tol=0.001, verbose=False),\n",
       "       fit_params={}, iid=True, n_jobs=1,\n",
       "       param_grid={'kernel': ('linear', 'rbf'), 'C': [1000.0, 5000.0]},\n",
       "       pre_dispatch='2*n_jobs', refit=True, scoring=None, verbose=0)"
      ]
     },
     "execution_count": 66,
     "metadata": {},
     "output_type": "execute_result"
    }
   ],
   "source": [
    "parameters = {'kernel':('linear', 'rbf'), 'C': [1e3, 5e3]}\n",
    "SVM = grid_search.GridSearchCV(svm.SVC(), parameters)\n",
    "SVM.fit(X_train_pca, Y_train)"
   ]
  },
  {
   "cell_type": "code",
   "execution_count": 67,
   "metadata": {},
   "outputs": [],
   "source": [
    "def show_image(x_array):\n",
    "    img_arr = np.reshape(x_array, (IMG_HEIGHT, IMG_WIDTH))\n",
    "    plt.imshow(img_arr, cmap=\"gray\")\n",
    "    print(img_arr.shape)"
   ]
  },
  {
   "cell_type": "code",
   "execution_count": 68,
   "metadata": {},
   "outputs": [
    {
     "name": "stdout",
     "output_type": "stream",
     "text": [
      "(100, 100)\n"
     ]
    },
    {
     "data": {
      "image/png": "[encoded data removed]",
      "text/plain": [
       "<Figure size 432x288 with 1 Axes>"
      ]
     },
     "metadata": {},
     "output_type": "display_data"
    }
   ],
   "source": [
    "show_image(X_validate[1])"
   ]
  },
  {
   "cell_type": "code",
   "execution_count": 69,
   "metadata": {},
   "outputs": [],
   "source": [
    "def count_accuracy(estimator, Xdata, Ydata):    \n",
    "    pred_labels = estimator.predict(Xdata)  \n",
    "    acc = (metrics.accuracy_score(Ydata, pred_labels))*100\n",
    "    count = 0\n",
    "    for i, y in enumerate(Ydata):\n",
    "        if y == pred_labels[i]:\n",
    "            count = count + 1\n",
    "        \n",
    "    return count, acc"
   ]
  },
  {
   "cell_type": "code",
   "execution_count": 70,
   "metadata": {},
   "outputs": [],
   "source": [
    "count1, acc1 = count_accuracy(decision_tree, X_validate_pca, Y_validate)\n",
    "count2, acc2 = count_accuracy(logistic, X_validate_pca, Y_validate)\n",
    "count3, acc3 = count_accuracy(MLP, X_validate_pca, Y_validate)\n",
    "count4, acc4 = count_accuracy_knn(X_validate_pca, Y_validate, X_train_pca, Y_train)\n",
    "count5, acc5 = count_accuracy(SVM, X_validate_pca, Y_validate)\n",
    "\n",
    "# count1, acc1 = count_accuracy(decision_tree, X_validate, Y_validate)\n",
    "# count2, acc2 = count_accuracy(logistic, X_validate, Y_validate)\n",
    "# count3, acc3 = count_accuracy(MLP, X_validate, Y_validate)\n",
    "# count4, acc4 = count_accuracy_knn(X_validate, Y_validate, X_train, Y_train)\n",
    "# count5, acc5 = count_accuracy(SVM, X_validate_pca, Y_validate)"
   ]
  },
  {
   "cell_type": "code",
   "execution_count": 71,
   "metadata": {},
   "outputs": [
    {
     "name": "stdout",
     "output_type": "stream",
     "text": [
      "Decision Tree: 151 - acuracy: 81.18279569892472\n",
      "Logistic: 153 - acuracy: 82.25806451612904\n",
      "Multi layers perception: 151 - acuracy: 81.18279569892472\n",
      "K-NN: 139 - acuracy: 74.73118279569893\n",
      "SVM: 158 - acuracy: 84.94623655913979\n"
     ]
    }
   ],
   "source": [
    "print('Decision Tree: {0} - acuracy: {1}'.format(count1, acc1))\n",
    "print('Logistic: {0} - acuracy: {1}'.format(count2, acc2))\n",
    "print('Multi layers perception: {0} - acuracy: {1}'.format(count3, acc3))\n",
    "print('K-NN: {0} - acuracy: {1}'.format(count4, acc4))\n",
    "print('SVM: {0} - acuracy: {1}'.format(count5, acc5))"
   ]
  },
  {
   "cell_type": "code",
   "execution_count": 72,
   "metadata": {},
   "outputs": [],
   "source": [
    "MLs = []\n",
    "MLs.append({'name': 'Decision tree', 'sum':count1, 'acc':acc1})\n",
    "MLs.append({'name': 'Logistic', 'sum':count2, 'acc':acc2})\n",
    "MLs.append({'name': 'Multi layers perception', 'sum':count3, 'acc':acc3})\n",
    "MLs.append({'name': 'K-NN', 'sum':count4, 'acc':acc4})\n",
    "MLs.append({'name': 'SVM', 'sum':count5, 'acc':acc5})"
   ]
  },
  {
   "cell_type": "code",
   "execution_count": 73,
   "metadata": {},
   "outputs": [
    {
     "data": {
      "text/plain": [
       "Text(0,0.5,'Algorithm')"
      ]
     },
     "execution_count": 73,
     "metadata": {},
     "output_type": "execute_result"
    },
    {
     "data": {
      "image/png": "[encoded data removed]",
      "text/plain": [
       "<Figure size 432x288 with 1 Axes>"
      ]
     },
     "metadata": {},
     "output_type": "display_data"
    }
   ],
   "source": [
    "#Bar plot ML algorithms:\n",
    "ML_columns = ['Name', 'Sum Correct', 'Accuracy']\n",
    "ML_compare = pd.DataFrame(columns = ML_columns)\n",
    "\n",
    "row_index = 0\n",
    "for alg in MLs:\n",
    "    ML_compare.loc[row_index, 'Name'] = alg['name']\n",
    "    ML_compare.loc[row_index, 'Sum Correct'] = alg['sum']\n",
    "    ML_compare.loc[row_index, 'Accuracy'] = alg['acc']    \n",
    "    row_index+=1\n",
    "\n",
    "sns.barplot(x='Accuracy', y = 'Name', data = ML_compare, color = 'm')\n",
    "\n",
    "plt.title('Machine Learning Algorithm Accuracy Score \\n')\n",
    "plt.xlabel('Accuracy Score (%)')\n",
    "plt.ylabel('Algorithm')"
   ]
  },
  {
   "cell_type": "code",
   "execution_count": null,
   "metadata": {},
   "outputs": [],
   "source": []
  }
 ],
 "metadata": {
  "kernelspec": {
   "display_name": "Python 3",
   "language": "python",
   "name": "python3"
  },
  "language_info": {
   "codemirror_mode": {
    "name": "ipython",
    "version": 3
   },
   "file_extension": ".py",
   "mimetype": "text/x-python",
   "name": "python",
   "nbconvert_exporter": "python",
   "pygments_lexer": "ipython3",
   "version": "3.6.5"
  }
 },
 "nbformat": 4,
 "nbformat_minor": 2
}

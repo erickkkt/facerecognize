{
 "cells": [
  {
   "cell_type": "markdown",
   "metadata": {},
   "source": [
    "## Import libraries ##"
   ]
  },
  {
   "cell_type": "code",
   "execution_count": 37,
   "metadata": {},
   "outputs": [],
   "source": [
    "import tensorflow as tf\n",
    "import cv2\n",
    "import numpy as np\n",
    "import os\n",
    "import shutil\n",
    "from random import shuffle\n",
    "from tqdm import tqdm\n",
    "import matplotlib.pyplot as plt\n",
    "from tensorflow.python.saved_model import tag_constants"
   ]
  },
  {
   "cell_type": "markdown",
   "metadata": {},
   "source": [
    "## Should reset tensorflow graph ## "
   ]
  },
  {
   "cell_type": "code",
   "execution_count": 20,
   "metadata": {},
   "outputs": [],
   "source": [
    "tf.reset_default_graph()"
   ]
  },
  {
   "cell_type": "markdown",
   "metadata": {},
   "source": [
    "## Init parameters ##"
   ]
  },
  {
   "cell_type": "code",
   "execution_count": 205,
   "metadata": {},
   "outputs": [],
   "source": [
    "FACES_DIR = '../data/HvN/faces_full'\n",
    "FACES_DIR_TEST = '../data/face_croped'\n",
    "MODEL_NAME = '../tmp/modelFaceNN'\n",
    "IMG_SIZE = 100\n",
    "LR = 1e-4\n",
    "FRACTION = 8/10\n",
    "N_NODES_HL1 = 500\n",
    "N_NODES_HL2 = 300\n",
    "N_NODES_HL3 = 100\n",
    "N_CLASSES = 2\n",
    "TRAINING_EPOCHS = 500\n",
    "BATCH_SIZE = 32"
   ]
  },
  {
   "cell_type": "markdown",
   "metadata": {},
   "source": [
    "## Process data##\n",
    "#### Apply one-hot for labels ####"
   ]
  },
  {
   "cell_type": "code",
   "execution_count": 206,
   "metadata": {},
   "outputs": [],
   "source": [
    "def process_file(file_name):\n",
    "    label = file_name[-5:][:1]\n",
    "    if label == 'M':\n",
    "        return [1,0]\n",
    "    elif label == 'F':\n",
    "        return [0,1]"
   ]
  },
  {
   "cell_type": "code",
   "execution_count": 207,
   "metadata": {},
   "outputs": [],
   "source": [
    "def process_folder(input_folder_path):\n",
    "    data = []\n",
    "    for img in tqdm(os.listdir(input_folder_path)):\n",
    "        label = process_file(img)\n",
    "        path = os.path.join(input_folder_path, img)\n",
    "        img = cv2.imread(path, cv2.IMREAD_GRAYSCALE)\n",
    "        data.append([np.array(img, dtype=np.float32), np.array(label, dtype=np.float32)])\n",
    "    shuffle(data)\n",
    "    return data"
   ]
  },
  {
   "cell_type": "code",
   "execution_count": 208,
   "metadata": {},
   "outputs": [],
   "source": [
    "def process_test_folder(input_folder_path):\n",
    "    data = []\n",
    "    for img in tqdm(os.listdir(input_folder_path)):\n",
    "        img_name = img.split('.')[0]\n",
    "        path = os.path.join(input_folder_path, img)\n",
    "        img = cv2.imread(path, cv2.IMREAD_GRAYSCALE)\n",
    "        data.append([np.array(img, dtype=np.float32), img_name])\n",
    "    shuffle(data)\n",
    "    return data"
   ]
  },
  {
   "cell_type": "code",
   "execution_count": 209,
   "metadata": {},
   "outputs": [
    {
     "name": "stderr",
     "output_type": "stream",
     "text": [
      "100%|██████████████████████████████████████████████████████████████████████████████| 927/927 [00:00<00:00, 1622.82it/s]\n",
      "100%|████████████████████████████████████████████████████████████████████████████| 2411/2411 [00:01<00:00, 2063.37it/s]\n"
     ]
    }
   ],
   "source": [
    "data = process_folder(FACES_DIR)\n",
    "predict_data = process_test_folder(FACES_DIR_TEST)"
   ]
  },
  {
   "cell_type": "markdown",
   "metadata": {},
   "source": [
    "## Define Neural Network model ##\n"
   ]
  },
  {
   "cell_type": "code",
   "execution_count": 210,
   "metadata": {},
   "outputs": [],
   "source": [
    "def neural_network_model(data):\n",
    "    hidden_1_layer = {'weights':tf.Variable(tf.random_normal([IMG_SIZE*IMG_SIZE, N_NODES_HL1], dtype=np.float32), name=\"w1\"),\n",
    "                      'biases':tf.Variable(tf.random_normal([N_NODES_HL1], dtype=np.float32), name=\"b1\")}\n",
    "\n",
    "    hidden_2_layer = {'weights':tf.Variable(tf.random_normal([N_NODES_HL1, N_NODES_HL2], dtype=np.float32), name=\"w2\"),\n",
    "                      'biases':tf.Variable(tf.random_normal([N_NODES_HL2], dtype=np.float32), name=\"b2\")}\n",
    "\n",
    "    hidden_3_layer = {'weights':tf.Variable(tf.random_normal([N_NODES_HL2, N_NODES_HL3], dtype=np.float32), name=\"w3\"),\n",
    "                      'biases':tf.Variable(tf.random_normal([N_NODES_HL3], dtype=np.float32), name=\"b3\")}\n",
    "\n",
    "    output_layer = {'weights':tf.Variable(tf.random_normal([N_NODES_HL3, N_CLASSES], dtype=np.float32), name=\"w\"),\n",
    "                    'biases':tf.Variable(tf.random_normal([N_CLASSES], dtype=np.float32), name=\"b\"),}\n",
    "\n",
    "\n",
    "    f1 = tf.add(tf.matmul(data, hidden_1_layer['weights']), hidden_1_layer['biases'])\n",
    "    a1 = tf.nn.relu(f1)\n",
    "\n",
    "    f2 = tf.add(tf.matmul(a1, hidden_2_layer['weights']), hidden_2_layer['biases'])\n",
    "    a2 = tf.nn.relu(f2)\n",
    "\n",
    "    f3 = tf.add(tf.matmul(a2, hidden_3_layer['weights']), hidden_3_layer['biases'])\n",
    "    a3 = tf.nn.relu(f3)\n",
    "\n",
    "    output = tf.add(tf.matmul(a3, output_layer['weights']), output_layer['biases'])\n",
    "\n",
    "    return output"
   ]
  },
  {
   "cell_type": "code",
   "execution_count": 211,
   "metadata": {},
   "outputs": [],
   "source": [
    "def predict_neural_network_model(data,  w, b, w1, b1, w2, b2, w3, b3):\n",
    "    hidden_1_layer = {'weights': w1,\n",
    "                      'biases': b1}\n",
    "\n",
    "    hidden_2_layer = {'weights':w2,\n",
    "                      'biases':b2}\n",
    "\n",
    "    hidden_3_layer = {'weights':w3,\n",
    "                      'biases':b3}\n",
    "\n",
    "    output_layer = {'weights':w,\n",
    "                    'biases':b}\n",
    "\n",
    "\n",
    "    f1 = tf.add(tf.matmul(data, hidden_1_layer['weights']), hidden_1_layer['biases'])\n",
    "    a1 = tf.nn.relu(f1)\n",
    "\n",
    "    f2 = tf.add(tf.matmul(a1, hidden_2_layer['weights']), hidden_2_layer['biases'])\n",
    "    a2 = tf.nn.relu(f2)\n",
    "\n",
    "    f3 = tf.add(tf.matmul(a2, hidden_3_layer['weights']), hidden_3_layer['biases'])\n",
    "    a3 = tf.nn.relu(f3)\n",
    "\n",
    "    output = tf.add(tf.matmul(a3, output_layer['weights']), output_layer['biases'])\n",
    "\n",
    "    return output"
   ]
  },
  {
   "cell_type": "code",
   "execution_count": 212,
   "metadata": {},
   "outputs": [],
   "source": [
    "def train_neural_network(x, y, x_train, y_train, x_test, y_test, display_step = 1):\n",
    "    nn_output = neural_network_model(x)\n",
    "    cost = tf.reduce_mean(tf.nn.softmax_cross_entropy_with_logits(logits=nn_output, labels=y))\n",
    "    optimizer = tf.train.AdamOptimizer(LR).minimize(cost)\n",
    "\n",
    "    with tf.Session() as sess:\n",
    "        sess.run(tf.global_variables_initializer())\n",
    "        #Fit all training data\n",
    "        avg_cost = 0\n",
    "        for epoch in range(TRAINING_EPOCHS):\n",
    "            _, c = sess.run([optimizer, cost], feed_dict={x: x_train, y: y_train})\n",
    "            avg_cost += c/TRAINING_EPOCHS\n",
    "            if epoch % display_step == 0:\n",
    "                print('Epoch', epoch + 1, 'loss:', avg_cost)\n",
    "\n",
    "        correct = tf.equal(tf.argmax(nn_output, 1), tf.argmax(y, 1))\n",
    "\n",
    "        accuracy = tf.reduce_mean(tf.cast(correct, 'float'))\n",
    "        print('Accuracy:', accuracy.eval({x:x_test, y:y_test}))\n",
    "\n",
    "        # Saving\n",
    "        inputs = {\n",
    "            \"features\": x,\n",
    "            \"labels\": y,\n",
    "        }\n",
    "        \n",
    "        outputs = {\"prediction\": nn_output}\n",
    "        \n",
    "        if os.path.exists(MODEL_NAME):\n",
    "            shutil.rmtree(MODEL_NAME)\n",
    "        \n",
    "        tf.saved_model.simple_save(\n",
    "            sess, MODEL_NAME, inputs, outputs\n",
    "        )"
   ]
  },
  {
   "cell_type": "code",
   "execution_count": 213,
   "metadata": {},
   "outputs": [],
   "source": [
    "def train_nn(x, y, x_train, y_train, x_test, y_test, display_step = 1):\n",
    "    nn_output = neural_network_model(x)\n",
    "    cost = tf.reduce_mean(tf.nn.softmax_cross_entropy_with_logits(logits=nn_output, labels=y))\n",
    "    optimizer = tf.train.AdamOptimizer(learning_rate=LR).minimize(cost)\n",
    "\n",
    "    with tf.Session() as sess:\n",
    "        sess.run(tf.global_variables_initializer())\n",
    "        for epoch in range(TRAINING_EPOCHS):\n",
    "            total_batch = int(len(x_train) / BATCH_SIZE)\n",
    "            x_batches = np.array_split(x_train, total_batch)\n",
    "            y_batches = np.array_split(y_train, total_batch)\n",
    "            avg_cost = 0\n",
    "            for i in range(total_batch):\n",
    "                batch_x, batch_y = x_batches[i], y_batches[i]\n",
    "                _, c = sess.run([optimizer, cost], feed_dict={x: batch_x, y: batch_y})\n",
    "                avg_cost += c/TRAINING_EPOCHS\n",
    "                \n",
    "            if epoch % display_step == 0:\n",
    "                print('Epoch', epoch + 1, 'loss:', avg_cost)\n",
    "                \n",
    "        correct = tf.equal(tf.argmax(nn_output, 1), tf.argmax(y, 1))\n",
    "\n",
    "        accuracy = tf.reduce_mean(tf.cast(correct, 'float'))\n",
    "        print('Accuracy:', accuracy.eval({x:x_test, y:y_test}))\n",
    "        \n",
    "        # Saving\n",
    "        inputs = {\n",
    "            \"features\": x,\n",
    "            \"labels\": y,\n",
    "        }\n",
    "        \n",
    "        outputs = {\"prediction\": nn_output}\n",
    "        \n",
    "        if os.path.exists(MODEL_NAME):\n",
    "            shutil.rmtree(MODEL_NAME)\n",
    "        \n",
    "        tf.saved_model.simple_save(\n",
    "            sess, MODEL_NAME, inputs, outputs\n",
    "        )"
   ]
  },
  {
   "cell_type": "code",
   "execution_count": 214,
   "metadata": {},
   "outputs": [],
   "source": [
    "train = data[:int(len(data)*FRACTION)]\n",
    "test = data[int(len(data)*FRACTION):]"
   ]
  },
  {
   "cell_type": "code",
   "execution_count": 215,
   "metadata": {},
   "outputs": [],
   "source": [
    "def prepare_data(train, test=None):\n",
    "    X=[]\n",
    "    Y=[]\n",
    "    test_x=[]\n",
    "    test_y=[]\n",
    "    for x in train:\n",
    "        X.append(x[0])\n",
    "        Y.append(x[1])\n",
    "        \n",
    "    X = np.array(X).reshape(-1, IMG_SIZE*IMG_SIZE)    \n",
    "    Y = np.array(Y).reshape(-1, 2)  \n",
    "    for x in test:\n",
    "        test_x.append(x[0])\n",
    "        test_y.append(x[1])\n",
    "    \n",
    "    test_x = np.array(test_x).reshape(-1, IMG_SIZE * IMG_SIZE)   \n",
    "    test_y = np.array(test_y).reshape(-1, 2) \n",
    "    \n",
    "    return X, Y, test_x, test_y"
   ]
  },
  {
   "cell_type": "code",
   "execution_count": 216,
   "metadata": {},
   "outputs": [],
   "source": [
    "x_train, y_train, x_test, y_test = prepare_data(train, test)"
   ]
  },
  {
   "cell_type": "code",
   "execution_count": 217,
   "metadata": {},
   "outputs": [
    {
     "name": "stdout",
     "output_type": "stream",
     "text": [
      "(741, 10000)\n",
      "(741, 2)\n"
     ]
    }
   ],
   "source": [
    "print(x_train.shape)\n",
    "print(y_train.shape)"
   ]
  },
  {
   "cell_type": "code",
   "execution_count": 218,
   "metadata": {},
   "outputs": [],
   "source": [
    "x = tf.placeholder('float', [None, IMG_SIZE*IMG_SIZE], name='features_placeholder')\n",
    "y = tf.placeholder('float', [None, 2], name='labels_placeholder')"
   ]
  },
  {
   "cell_type": "code",
   "execution_count": 204,
   "metadata": {},
   "outputs": [
    {
     "name": "stdout",
     "output_type": "stream",
     "text": [
      "Epoch 1 loss: 7746447.975\n",
      "Epoch 2 loss: 2005142.33828125\n",
      "Epoch 3 loss: 1282964.5390624998\n",
      "Epoch 4 loss: 978634.20234375\n",
      "Epoch 5 loss: 840588.8703124999\n",
      "Epoch 6 loss: 685916.179296875\n",
      "Epoch 7 loss: 581873.50078125\n",
      "Epoch 8 loss: 503826.501171875\n",
      "Epoch 9 loss: 437930.3221191406\n",
      "Epoch 10 loss: 395754.3880859375\n",
      "Accuracy: 0.75268817\n",
      "INFO:tensorflow:Assets added to graph.\n",
      "INFO:tensorflow:No assets to write.\n",
      "INFO:tensorflow:SavedModel written to: ../tmp/modelFaceNN\\saved_model.pb\n"
     ]
    }
   ],
   "source": [
    "train_nn(x,y, x_train, y_train, x_test, y_test, display_step=1)"
   ]
  },
  {
   "cell_type": "code",
   "execution_count": 219,
   "metadata": {
    "scrolled": true
   },
   "outputs": [
    {
     "name": "stdout",
     "output_type": "stream",
     "text": [
      "Epoch 1 loss: 3656.44225\n",
      "Epoch 51 loss: 86118.629625\n",
      "Epoch 101 loss: 110771.26112499996\n",
      "Epoch 151 loss: 118894.82484374997\n",
      "Epoch 201 loss: 121472.30879492177\n",
      "Epoch 251 loss: 121955.85664379879\n",
      "Epoch 301 loss: 121983.8791357927\n",
      "Epoch 351 loss: 121983.88891042181\n",
      "Epoch 401 loss: 121983.88891042181\n",
      "Epoch 451 loss: 121983.88891042181\n",
      "Accuracy: 0.7688172\n",
      "INFO:tensorflow:Assets added to graph.\n",
      "INFO:tensorflow:No assets to write.\n",
      "INFO:tensorflow:SavedModel written to: ../tmp/modelFaceNN\\saved_model.pb\n"
     ]
    }
   ],
   "source": [
    "train_neural_network(x,y, x_train, y_train, x_test, y_test, display_step=50)"
   ]
  },
  {
   "cell_type": "code",
   "execution_count": 152,
   "metadata": {},
   "outputs": [],
   "source": [
    "def prepare_predict_data(predict):\n",
    "    X=[]\n",
    "    Y=[]\n",
    "    for x in predict:\n",
    "        X.append(x[0])\n",
    "        Y.append(x[1])\n",
    "        \n",
    "    X = np.array(X).reshape(-1, IMG_SIZE*IMG_SIZE)    \n",
    "    Y = np.array(Y).reshape(-1, 1)    \n",
    "    \n",
    "    return X, Y"
   ]
  },
  {
   "cell_type": "code",
   "execution_count": 153,
   "metadata": {},
   "outputs": [],
   "source": [
    "def show_image(x_array):\n",
    "    img_arr = np.reshape(x_array, (IMG_SIZE, IMG_SIZE))\n",
    "    plt.imshow(img_arr, cmap=\"gray\")"
   ]
  },
  {
   "cell_type": "code",
   "execution_count": 154,
   "metadata": {},
   "outputs": [],
   "source": [
    "def predict_saved_model(predict_data):\n",
    "    graph2 = tf.Graph()\n",
    "    with graph2.as_default():\n",
    "        with tf.Session() as sess:\n",
    "            print('\\nRestoring...')\n",
    "            tf.saved_model.loader.load(\n",
    "                    sess,\n",
    "                    [tag_constants.SERVING],\n",
    "                    MODEL_NAME\n",
    "                )\n",
    "            print('Ok')\n",
    "\n",
    "            w = graph2.get_tensor_by_name('w:0')\n",
    "            b = graph2.get_tensor_by_name('b:0')\n",
    "            w1 = graph2.get_tensor_by_name('w1:0')\n",
    "            b1 = graph2.get_tensor_by_name('b1:0')\n",
    "            w2 = graph2.get_tensor_by_name('w2:0')\n",
    "            b2 = graph2.get_tensor_by_name('b2:0')\n",
    "            w3 = graph2.get_tensor_by_name('w3:0')\n",
    "            b3 = graph2.get_tensor_by_name('b3:0')\n",
    "\n",
    "            orimg = predict_data[10]\n",
    "            show_image(orimg)\n",
    "            img = orimg.reshape(1,IMG_SIZE*IMG_SIZE);\n",
    "            result = predict_neural_network_model(img, w=w, b=b, w1=w1, b1=b1, w2=w2, b2=b2, w3=w3, b3=b3)\n",
    "            label = sess.run(result)\n",
    "            print(label)\n",
    "            if np.argmax(label) == 1:\n",
    "                str_label = 'F' #[0, 1]\n",
    "            else:\n",
    "                str_label = 'M' #[1, 0]\n",
    "            \n",
    "            print(str_label)"
   ]
  },
  {
   "cell_type": "code",
   "execution_count": 155,
   "metadata": {},
   "outputs": [
    {
     "name": "stdout",
     "output_type": "stream",
     "text": [
      "\n",
      "Restoring...\n",
      "INFO:tensorflow:Restoring parameters from ../tmp/modelFaceNN\\variables\\variables\n",
      "Ok\n",
      "[[-3176009. -7268777.]]\n",
      "M\n"
     ]
    },
    {
     "data": {
      "image/png": "[encoded data removed]",
      "text/plain": [
       "<Figure size 432x288 with 1 Axes>"
      ]
     },
     "metadata": {},
     "output_type": "display_data"
    }
   ],
   "source": [
    "X_predict, Y_predict = prepare_predict_data(predict_data)\n",
    "\n",
    "predict_saved_model(X_predict)"
   ]
  }
 ],
 "metadata": {
  "kernelspec": {
   "display_name": "Python 3",
   "language": "python",
   "name": "python3"
  },
  "language_info": {
   "codemirror_mode": {
    "name": "ipython",
    "version": 3
   },
   "file_extension": ".py",
   "mimetype": "text/x-python",
   "name": "python",
   "nbconvert_exporter": "python",
   "pygments_lexer": "ipython3",
   "version": "3.6.5"
  }
 },
 "nbformat": 4,
 "nbformat_minor": 2
}
